{
 "cells": [
  {
   "cell_type": "code",
   "execution_count": 6,
   "id": "4e556fd9",
   "metadata": {},
   "outputs": [],
   "source": [
    "from openai import OpenAI\n",
    "import json\n",
    "import time\n",
    "import os\n",
    "import random"
   ]
  },
  {
   "cell_type": "code",
   "execution_count": 10,
   "id": "4eb104fa",
   "metadata": {},
   "outputs": [
    {
     "name": "stdout",
     "output_type": "stream",
     "text": [
      "API_KEY: ...qsZHREcOQA\n"
     ]
    }
   ],
   "source": [
    "API_KEY = os.getenv(\"OPENAI_API_KEY\")\n",
    "print(f\"API_KEY: ...{API_KEY[-10:]}\") "
   ]
  },
  {
   "cell_type": "code",
   "execution_count": 4,
   "id": "e48531a8",
   "metadata": {},
   "outputs": [],
   "source": [
    "list_of_activities = [\"Hiking\", \"Trail running\", \"Road cycling\", \"Mountain biking\", \"Canoeing\", \"Kayaking\", \"Stand-up paddleboarding\", \"Sailing\", \"Windsurfing\", \"Kitesurfing\", \"Open-water swimming\", \"Beach day\", \"Picnic\", \"Outdoor yoga\", \"Rock climbing\", \"Bouldering\", \"Camping\", \"Backpacking\", \"Birdwatching\", \"Fishing\", \"Hunting\", \"Photography walk\", \"City walking tour\", \"Outdoor concert/festival/parade\", \"Farmers’ market\", \"Stargazing\", \"Drone flying\", \"Golf\", \"Tennis\", \"Pickleball\", \"Soccer\", \"Basketball\", \"Baseball/softball\", \"Ultimate frisbee\", \"Disc golf\", \"Horseback riding\", \"ATV/Off-road\", \"Snowshoeing\", \"Cross-country skiing\", \"Alpine skiing\", \"Snowboarding\", \"Ice skating\", \"Sledding\", \"Winter hiking\"]"
   ]
  },
  {
   "cell_type": "code",
   "execution_count": 3,
   "id": "0a73b59e",
   "metadata": {},
   "outputs": [],
   "source": [
    "client = OpenAI(api_key=API_KEY)\n",
    "\n",
    "def get_recommendation(row):\n",
    "    activity_list = row[\"preferred_activities\"]\n",
    "    weather_forecast = row[\"weather\"]\n",
    "\n",
    "    system_prompt = \"\"\"\n",
    "You are an outdoor-activity suitability assistant. \n",
    "You DO NOT forecast — you interpret the provided weather summary.\n",
    "Be concise, practical, and safety-aware.\n",
    "Always return a compact JSON object as described below.\n",
    "Never add text outside the JSON.\n",
    "\n",
    "Default heuristics (used only if no custom thresholds provided):\n",
    "- Parade/Picnic: avoid precipitation ≥2 mm/day; wind <9 m/s; comfort ~0–28 °C.\n",
    "- Hiking/Walking: avoid storms or heavy rain ≥5 mm/day; ok temp −5…30 °C; wind <12 m/s.\n",
    "- Camping: avoid heavy rain ≥6 mm/day; wind <10 m/s; temp 0…28 °C.\n",
    "- Canoe/Kayak/SUP: prefer wind ≤8 m/s; avoid thunderstorms; temp 10…28 °C; rain <5 mm/day.\n",
    "- Sailing/Windsurf/Kitesurf: good wind 5–14 m/s; caution with gusts >14 m/s or storms.\n",
    "- Cycling: avoid heavy rain ≥5 mm/day and gusts >14 m/s; temp −2…32 °C.\n",
    "- Running: avoid thunderstorms; temp −5…30 °C; humidex/heat index >32 °C ⇒ caution.\n",
    "- Alpine/Cross-country Skiing/Snowshoeing: prefer snow depth ≥10 cm or snow cover ≥50%; ok temp ≤2 °C; wind chill ≤ −20 °C ⇒ caution/no-go.\n",
    "- Photography/Stargazing: prefer cloud cover <40%; wind <10 m/s; no precipitation.\n",
    "- Fishing: light wind <8 m/s; avoid thunderstorms; light rain is tolerable.\n",
    "\n",
    "RATING rules:\n",
    "- GO: all conditions within comfort thresholds\n",
    "- CAUTION: minor or borderline issues\n",
    "- NO-GO: significant safety/weather limitations\n",
    "\"\"\"\n",
    "\n",
    "    user_prompt = f'''\n",
    "Evaluate the suitability of each preferred activity given the weather data.\n",
    "\n",
    "Input JSON:\n",
    "{{\n",
    "  \"preferred_activities\": {json.dumps(activity_list, ensure_ascii=False)},\n",
    "  \"weather\": {json.dumps(weather_forecast, ensure_ascii=False)}\n",
    "}}\n",
    "\n",
    "Output STRICTLY as JSON with these keys:\n",
    "{{\n",
    "  \"rating\": \"GO|CAUTION|NO-GO\", // only one rating for all activities\n",
    "  \"why\": [\"<=12 words\", \"<=12 words\"],  // one for each activity\n",
    "  \"alternatives\": [\"<=3 words\", \"<=3 words\"],\n",
    "  \"one_liner\": \"<=22 words summary in English\"\n",
    "}}\n",
    "'''\n",
    "\n",
    "    for attempt in range(3):\n",
    "        try:\n",
    "            response = client.chat.completions.create(\n",
    "                model=\"gpt-5-mini\",\n",
    "                messages=[\n",
    "                    {\"role\": \"system\", \"content\": system_prompt},\n",
    "                    {\"role\": \"user\", \"content\": user_prompt},\n",
    "                ],\n",
    "            )\n",
    "\n",
    "            answer = response.choices[0].message.content.strip()\n",
    "\n",
    "            # attempt to extract JSON\n",
    "            json_start = answer.find(\"{\")\n",
    "            json_end = answer.rfind(\"}\") + 1\n",
    "            answer_json = answer[json_start:json_end]\n",
    "            result = json.loads(answer_json)\n",
    "            return result\n",
    "\n",
    "        except Exception as e:\n",
    "            print(f\"Error (attempt {attempt+1}): {e}\")\n",
    "            time.sleep(4 * (attempt + 1))\n",
    "    return None\n"
   ]
  },
  {
   "cell_type": "code",
   "execution_count": 7,
   "id": "9e93d675",
   "metadata": {},
   "outputs": [
    {
     "name": "stdout",
     "output_type": "stream",
     "text": [
      "['Sailing', 'Outdoor concert/festival/parade', 'Baseball/softball']\n",
      "{\n",
      "  \"rating\": \"CAUTION\",\n",
      "  \"why\": [\n",
      "    \"Wind 8.5 m/s with 12 m/s gusts — favorable for sailing\",\n",
      "    \"Wind near comfort limit; light rain may affect tents/stage\",\n",
      "    \"Light rain, moderate wind — play generally unaffected\"\n",
      "  ],\n",
      "  \"alternatives\": [\n",
      "    \"Photography\",\n",
      "    \"Picnic\"\n",
      "  ],\n",
      "  \"one_liner\": \"Moderate wind and light rain — sailing and baseball OK; outdoor concert may need wind/tent precautions.\"\n",
      "}\n"
     ]
    }
   ],
   "source": [
    "row = {\n",
    "    \"preferred_activities\": random.sample(list_of_activities, 3),\n",
    "    \"weather\": {\n",
    "        \"temp_c\": {\"min\": 11, \"max\": 19},\n",
    "        \"wind_ms\": {\"mean\": 8.5, \"gust\": 12.0},\n",
    "        \"precip_mm_day\": 1.5,\n",
    "        \"thunderstorm_risk\": \"low\",\n",
    "        \"cloud_cover_pct\": 40,\n",
    "        \"snow_depth_cm\": 0\n",
    "    }\n",
    "}\n",
    "\n",
    "print(row['preferred_activities'])\n",
    "result = get_recommendation(row)\n",
    "print(json.dumps(result, indent=2, ensure_ascii=False))\n"
   ]
  },
  {
   "cell_type": "code",
   "execution_count": null,
   "id": "6f9155d6",
   "metadata": {},
   "outputs": [],
   "source": []
  }
 ],
 "metadata": {
  "kernelspec": {
   "display_name": "base",
   "language": "python",
   "name": "python3"
  },
  "language_info": {
   "codemirror_mode": {
    "name": "ipython",
    "version": 3
   },
   "file_extension": ".py",
   "mimetype": "text/x-python",
   "name": "python",
   "nbconvert_exporter": "python",
   "pygments_lexer": "ipython3",
   "version": "3.12.7"
  }
 },
 "nbformat": 4,
 "nbformat_minor": 5
}
